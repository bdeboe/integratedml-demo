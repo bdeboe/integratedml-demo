{
 "cells": [
  {
   "cell_type": "code",
   "execution_count": 3,
   "metadata": {},
   "outputs": [
    {
     "name": "stdout",
     "output_type": "stream",
     "text": [
      "Collecting package metadata (repodata.json): ...working... done\n",
      "Solving environment: ...working... done\n",
      "\n",
      "## Package Plan ##\n",
      "\n",
      "  environment location: C:\\Users\\zhongli\\.conda\\envs\\tf-gpu\n",
      "\n",
      "  added / updated specs:\n",
      "    - pyodbc\n",
      "\n",
      "\n",
      "The following packages will be downloaded:\n",
      "\n",
      "    package                    |            build\n",
      "    ---------------------------|-----------------\n",
      "    pyodbc-4.0.27              |   py37ha925a31_0          70 KB  anaconda\n",
      "    ------------------------------------------------------------\n",
      "                                           Total:          70 KB\n",
      "\n",
      "The following NEW packages will be INSTALLED:\n",
      "\n",
      "  pyodbc             anaconda/win-64::pyodbc-4.0.27-py37ha925a31_0\n",
      "\n",
      "\n",
      "\n",
      "Downloading and Extracting Packages\n",
      "\n",
      "pyodbc-4.0.27        | 70 KB     |            |   0% \n",
      "pyodbc-4.0.27        | 70 KB     | #########1 |  91% \n",
      "pyodbc-4.0.27        | 70 KB     | ########## | 100% \n",
      "Preparing transaction: ...working... done\n",
      "Verifying transaction: ...working... done\n",
      "Executing transaction: ...working... done\n"
     ]
    },
    {
     "name": "stderr",
     "output_type": "stream",
     "text": [
      "\n",
      "\n",
      "==> WARNING: A newer version of conda exists. <==\n",
      "  current version: 4.7.10\n",
      "  latest version: 4.8.1\n",
      "\n",
      "Please update conda by running\n",
      "\n",
      "    $ conda update -n base -c defaults conda\n",
      "\n",
      "\n"
     ]
    }
   ],
   "source": [
    "!conda install --yes -c anaconda pyodbc"
   ]
  },
  {
   "cell_type": "code",
   "execution_count": 14,
   "metadata": {},
   "outputs": [
    {
     "name": "stdout",
     "output_type": "stream",
     "text": [
      "Hit any key to start\n"
     ]
    },
    {
     "name": "stderr",
     "output_type": "stream",
     "text": [
      "C:\\Users\\zhongli\\.conda\\envs\\tf-gpu\\lib\\site-packages\\ipykernel_launcher.py:16: DeprecationWarning: time.clock has been deprecated in Python 3.3 and will be removed from Python 3.8: use time.perf_counter or time.process_time instead\n",
      "  app.launch_new_instance()\n",
      "C:\\Users\\zhongli\\.conda\\envs\\tf-gpu\\lib\\site-packages\\ipykernel_launcher.py:42: DeprecationWarning: time.clock has been deprecated in Python 3.3 and will be removed from Python 3.8: use time.perf_counter or time.process_time instead\n"
     ]
    },
    {
     "name": "stdout",
     "output_type": "stream",
     "text": [
      "('Iris-setosa', 'Iris-setosa')\n",
      "('Iris-setosa', 'Iris-setosa')\n",
      "('Iris-setosa', 'Iris-setosa')\n",
      "('Iris-setosa', 'Iris-setosa')\n",
      "('Iris-setosa', 'Iris-setosa')\n",
      "('Iris-setosa', 'Iris-setosa')\n",
      "('Iris-setosa', 'Iris-setosa')\n",
      "('Iris-setosa', 'Iris-setosa')\n",
      "('Iris-setosa', 'Iris-setosa')\n",
      "('Iris-setosa', 'Iris-setosa')\n",
      "('Iris-setosa', 'Iris-setosa')\n",
      "('Iris-setosa', 'Iris-setosa')\n",
      "('Iris-setosa', 'Iris-setosa')\n",
      "('Iris-setosa', 'Iris-setosa')\n",
      "('Iris-setosa', 'Iris-setosa')\n",
      "('Iris-setosa', 'Iris-setosa')\n",
      "('Iris-setosa', 'Iris-setosa')\n",
      "('Iris-setosa', 'Iris-setosa')\n",
      "('Iris-setosa', 'Iris-setosa')\n",
      "('Iris-setosa', 'Iris-setosa')\n",
      "Total elapsed time: \n",
      "10.558947500000158\n",
      "Hit any key to end\n"
     ]
    },
    {
     "data": {
      "text/plain": [
       "''"
      ]
     },
     "execution_count": 14,
     "metadata": {},
     "output_type": "execute_result"
    }
   ],
   "source": [
    "import pyodbc \n",
    "import time\n",
    "\n",
    "### 1. Get an ODBC connection \n",
    "input(\"Hit any key to start\")\n",
    "dsn = 'IRIS QuickML demo via PyODBC'\n",
    "server = '192.168.99.101' \n",
    "port = '9091'\n",
    "database = 'USER' \n",
    "username = 'SUPERUSER' \n",
    "password = 'SYS' \n",
    "cnxn = pyodbc.connect('DRIVER={InterSystems ODBC35};SERVER='+server+'; PORT='+port+'; DATABASE='+database+';UID='+username+';PWD='+ password)\n",
    "\n",
    "### 2. Get a cursor; start the timer\n",
    "cursor = cnxn.cursor()\n",
    "start= time.clock()\n",
    "\n",
    "### 3. specify the training data, and give a model name\n",
    "dataTable = 'DataMining.IrisDataset'\n",
    "dataTablePredict = 'Result02'\n",
    "dataColumn =  'Species'\n",
    "dataColumnPredict = \"PredictedSpecies\"\n",
    "modelName = \"Flower02\" #chose a name - must be unique in server end\n",
    "\n",
    "### 4. Train and predict\n",
    "cursor.execute(\"CREATE MODEL %s PREDICTING (%s)  FROM %s\" % (modelName, dataColumn, dataTable))\n",
    "cursor.execute(\"TRAIN MODEL %s FROM %s\" % (modelName, dataTable))\n",
    "cursor.execute(\"Create Table %s (%s VARCHAR(100), %s VARCHAR(100))\" % (dataTablePredict, dataColumnPredict, dataColumn))\n",
    "cursor.execute(\"INSERT INTO %s  SELECT TOP 20 PREDICT(%s) AS %s, %s FROM %s\" % (dataTablePredict, modelName, dataColumnPredict, dataColumn, dataTable)) \n",
    "cnxn.commit()\n",
    "\n",
    "### 5. show the predict result\n",
    "cursor.execute(\"SELECT * from %s\" % dataTablePredict)\n",
    "row = cursor.fetchone() \n",
    "while row: \n",
    "    print(row) \n",
    "    row = cursor.fetchone()\n",
    "\n",
    "\n",
    "### 6. CLose and clean     \n",
    "cnxn.close()\n",
    "end= time.clock()\n",
    "print (\"Total elapsed time: \")\n",
    "print (end-start)\n",
    "input(\"Hit any key to end\")"
   ]
  },
  {
   "cell_type": "code",
   "execution_count": null,
   "metadata": {},
   "outputs": [],
   "source": [
    "\n",
    "\n"
   ]
  },
  {
   "cell_type": "code",
   "execution_count": null,
   "metadata": {},
   "outputs": [],
   "source": []
  }
 ],
 "metadata": {
  "kernelspec": {
   "display_name": "TF-GPU",
   "language": "python",
   "name": "tf-gpu"
  },
  "language_info": {
   "codemirror_mode": {
    "name": "ipython",
    "version": 3
   },
   "file_extension": ".py",
   "mimetype": "text/x-python",
   "name": "python",
   "nbconvert_exporter": "python",
   "pygments_lexer": "ipython3",
   "version": "3.7.3"
  }
 },
 "nbformat": 4,
 "nbformat_minor": 2
}
